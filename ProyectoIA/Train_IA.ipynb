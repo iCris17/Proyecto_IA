{
 "cells": [
  {
   "cell_type": "markdown",
   "metadata": {},
   "source": [
    "## Entrenamiento del proyecto IA"
   ]
  },
  {
   "cell_type": "code",
   "execution_count": 1,
   "metadata": {},
   "outputs": [
    {
     "name": "stderr",
     "output_type": "stream",
     "text": [
      "C:\\Users\\Felipe\\Anaconda3\\lib\\site-packages\\h5py\\__init__.py:72: UserWarning: h5py is running against HDF5 1.10.2 when it was built against 1.10.3, this may cause problems\n",
      "  '{0}.{1}.{2}'.format(*version.hdf5_built_version_tuple)\n",
      "Using TensorFlow backend.\n"
     ]
    }
   ],
   "source": [
    "import tensorflow as tf\n",
    "import numpy as np\n",
    "from skimage import io\n",
    "from skimage import transform\n",
    "import os\n",
    "import matplotlib.pyplot as plt\n",
    "from keras.utils import np_utils\n",
    "from keras.models import Sequential\n",
    "from keras.layers.core import Dense, Flatten\n",
    "#  Dense permite utilizar las ultmas capas que son nodos o neuronas en un capa\n",
    "# Flatten permite cambiar una matriz a un vector, que pueda ser enetendida por las demas neuronas conectadas \n",
    "from keras.optimizers import SGD # descenso del gradiente \n",
    "from keras.layers.convolutional import Convolution2D, MaxPooling2D"
   ]
  },
  {
   "cell_type": "markdown",
   "metadata": {},
   "source": [
    "## Función para la lectura de los datos"
   ]
  },
  {
   "cell_type": "code",
   "execution_count": 2,
   "metadata": {},
   "outputs": [],
   "source": [
    "def lectura_imagenes(directorio):\n",
    "    # Vector de direcotorios, existente en la ruta indicada\n",
    "    dirs = [ d for d in os.listdir(directorio) ]   \n",
    "    # Lista que va guardar las imagenes leidas\n",
    "    images = []\n",
    "    etiquetas = []\n",
    "    i = 0\n",
    "    for directory in dirs:\n",
    "        nom_carpeta = os.path.join(directorio,directory)\n",
    "        # Listado de nombres de imagenes, en una sola ruta \n",
    "        list_nombre_images = [ os.path.join(nom_carpeta,f) \n",
    "                               for f in os.listdir(nom_carpeta)\n",
    "                               if f.endswith(\".jpg\")]\n",
    "        # leyendo las imagenes \n",
    "        for f in list_nombre_images:\n",
    "            images.append(io.imread(f))\n",
    "            etiquetas.append(i)\n",
    "        i += 1\n",
    "    \n",
    "    return images,etiquetas"
   ]
  },
  {
   "cell_type": "code",
   "execution_count": 3,
   "metadata": {},
   "outputs": [],
   "source": [
    "# Directorios \n",
    "images_entrenamiento,etiquetas = lectura_imagenes(\"images/entrenamiento\")\n",
    "#images_validacion = lectura_imagenes(\"images/validacion\")"
   ]
  },
  {
   "cell_type": "code",
   "execution_count": 4,
   "metadata": {},
   "outputs": [],
   "source": [
    "# Convirtiendo lista de imagenes a un array\n",
    "images_entrenamiento = np.array(images_entrenamiento)\n",
    "etiquetas = np.array(etiquetas)\n",
    "#images_validacion = np.array(images_validacion)"
   ]
  },
  {
   "cell_type": "code",
   "execution_count": 5,
   "metadata": {},
   "outputs": [
    {
     "data": {
      "text/plain": [
       "(564,)"
      ]
     },
     "execution_count": 5,
     "metadata": {},
     "output_type": "execute_result"
    }
   ],
   "source": [
    "images_entrenamiento.shape"
   ]
  },
  {
   "cell_type": "code",
   "execution_count": 5,
   "metadata": {},
   "outputs": [],
   "source": [
    "nclases = 7\n",
    "etiquetas = np_utils.to_categorical(etiquetas,nclases)\n",
    "#y_test = np_utils.to_categorical(y_test, nclases)"
   ]
  },
  {
   "cell_type": "code",
   "execution_count": 6,
   "metadata": {},
   "outputs": [
    {
     "data": {
      "text/plain": [
       "(573, 7)"
      ]
     },
     "execution_count": 6,
     "metadata": {},
     "output_type": "execute_result"
    }
   ],
   "source": [
    "etiquetas.shape"
   ]
  },
  {
   "cell_type": "code",
   "execution_count": 7,
   "metadata": {},
   "outputs": [
    {
     "name": "stderr",
     "output_type": "stream",
     "text": [
      "C:\\Users\\Felipe\\Anaconda3\\lib\\site-packages\\skimage\\transform\\_warps.py:105: UserWarning: The default mode, 'constant', will be changed to 'reflect' in skimage 0.15.\n",
      "  warn(\"The default mode, 'constant', will be changed to 'reflect' in \"\n",
      "C:\\Users\\Felipe\\Anaconda3\\lib\\site-packages\\skimage\\transform\\_warps.py:110: UserWarning: Anti-aliasing will be enabled by default in skimage 0.15 to avoid aliasing artifacts when down-sampling images.\n",
      "  warn(\"Anti-aliasing will be enabled by default in skimage 0.15 to \"\n"
     ]
    }
   ],
   "source": [
    "# Redimensionando las imágenes a 32x32\n",
    "images_entrenamiento = [ transform.resize(image,(50,50)) for image in images_entrenamiento]\n",
    "#images_validacion = [ transform.resize(image,(32,32)) for image in images_validacion]"
   ]
  },
  {
   "cell_type": "code",
   "execution_count": 8,
   "metadata": {},
   "outputs": [
    {
     "data": {
      "text/plain": [
       "(573, 50, 50, 3)"
      ]
     },
     "execution_count": 8,
     "metadata": {},
     "output_type": "execute_result"
    }
   ],
   "source": [
    "images_entrenamiento = np.array(images_entrenamiento)\n",
    "images_entrenamiento.shape"
   ]
  },
  {
   "cell_type": "markdown",
   "metadata": {},
   "source": [
    "## Listado de Variables"
   ]
  },
  {
   "cell_type": "code",
   "execution_count": 9,
   "metadata": {},
   "outputs": [],
   "source": [
    "tam_lote = 15\n",
    "iteraciones = 1\n",
    "filtro = 3\n",
    "num_colores = 3\n",
    "ancho = 30\n",
    "altura = 30"
   ]
  },
  {
   "cell_type": "markdown",
   "metadata": {},
   "source": [
    "## Modelo de la red Neuronal Convolucional\n"
   ]
  },
  {
   "cell_type": "code",
   "execution_count": 10,
   "metadata": {},
   "outputs": [],
   "source": [
    "modelo = Sequential()"
   ]
  },
  {
   "cell_type": "code",
   "execution_count": 10,
   "metadata": {},
   "outputs": [
    {
     "data": {
      "image/png": "[encoded data removed]",
      "text/plain": [
       "<Figure size 432x288 with 1 Axes>"
      ]
     },
     "metadata": {
      "needs_background": "light"
     },
     "output_type": "display_data"
    }
   ],
   "source": [
    "plt.imshow(images_entrenamiento[40])\n",
    "plt.show()"
   ]
  },
  {
   "cell_type": "code",
   "execution_count": 11,
   "metadata": {},
   "outputs": [
    {
     "name": "stdout",
     "output_type": "stream",
     "text": [
      "WARNING:tensorflow:From C:\\Users\\Felipe\\Anaconda3\\lib\\site-packages\\tensorflow\\python\\framework\\op_def_library.py:263: colocate_with (from tensorflow.python.framework.ops) is deprecated and will be removed in a future version.\n",
      "Instructions for updating:\n",
      "Colocations handled automatically by placer.\n"
     ]
    }
   ],
   "source": [
    "# Primera red convolucional\n",
    "modelo.add(Convolution2D(64,kernel_size=(6,6), strides=(1,1), activation='relu',\n",
    "                         input_shape=(50, 50, 3)))\n",
    "\n",
    "modelo.add(MaxPooling2D(pool_size=(2,2), strides=2))"
   ]
  },
  {
   "cell_type": "code",
   "execution_count": 12,
   "metadata": {},
   "outputs": [],
   "source": [
    "modelo.add(Convolution2D(100,kernel_size=(6,6), strides=(1,1), activation='relu'))\n",
    "modelo.add(MaxPooling2D(pool_size=(2,2), strides=2))"
   ]
  },
  {
   "cell_type": "code",
   "execution_count": 13,
   "metadata": {},
   "outputs": [],
   "source": [
    "# Segunda red convolucional\n",
    "modelo.add(Convolution2D(50, kernel_size=(6,6), strides=(1,1), activation='relu'))\n",
    "modelo.add(MaxPooling2D( pool_size=(2,2), strides=2))"
   ]
  },
  {
   "cell_type": "code",
   "execution_count": 14,
   "metadata": {},
   "outputs": [
    {
     "data": {
      "text/plain": [
       "30"
      ]
     },
     "execution_count": 14,
     "metadata": {},
     "output_type": "execute_result"
    }
   ],
   "source": [
    "altura"
   ]
  },
  {
   "cell_type": "code",
   "execution_count": 14,
   "metadata": {},
   "outputs": [],
   "source": [
    "# Aplanamiento de las redes convolucionales, pasandolos a vectores\n",
    "modelo.add(Flatten())\n",
    "# NN con 50 neuronas \n",
    "modelo.add(Dense(128, activation='relu'))\n",
    "\n",
    "modelo.add(Dense(64, activation='relu'))\n",
    "# Softmax con 10 neuronas de salida \n",
    "modelo.add(Dense(nclases, activation='softmax'))\n",
    "\n",
    "# Optimizador,  con gradiente descendiente \n",
    "omptimizador = SGD(lr=0.001)\n",
    "modelo.compile(loss='categorical_crossentropy',\n",
    "               optimizer=omptimizador,\n",
    "               metrics=['accuracy'])"
   ]
  },
  {
   "cell_type": "code",
   "execution_count": 15,
   "metadata": {},
   "outputs": [
    {
     "name": "stdout",
     "output_type": "stream",
     "text": [
      "WARNING:tensorflow:From C:\\Users\\Felipe\\Anaconda3\\lib\\site-packages\\tensorflow\\python\\ops\\math_ops.py:3066: to_int32 (from tensorflow.python.ops.math_ops) is deprecated and will be removed in a future version.\n",
      "Instructions for updating:\n",
      "Use tf.cast instead.\n",
      "Epoch 1/180\n",
      " - 8s - loss: 1.9410 - acc: 0.1745\n",
      "Epoch 2/180\n",
      " - 6s - loss: 1.9360 - acc: 0.1710\n",
      "Epoch 3/180\n",
      " - 6s - loss: 1.9312 - acc: 0.2112\n",
      "Epoch 4/180\n",
      " - 6s - loss: 1.9261 - acc: 0.2094\n",
      "Epoch 5/180\n",
      " - 6s - loss: 1.9214 - acc: 0.2531\n",
      "Epoch 6/180\n",
      " - 6s - loss: 1.9156 - acc: 0.2443\n",
      "Epoch 7/180\n",
      " - 6s - loss: 1.9086 - acc: 0.2513\n",
      "Epoch 8/180\n",
      " - 6s - loss: 1.9008 - acc: 0.2443\n",
      "Epoch 9/180\n",
      " - 6s - loss: 1.8909 - acc: 0.2653\n",
      "Epoch 10/180\n",
      " - 6s - loss: 1.8793 - acc: 0.2373\n",
      "Epoch 11/180\n",
      " - 6s - loss: 1.8637 - acc: 0.2478\n",
      "Epoch 12/180\n",
      " - 6s - loss: 1.8445 - acc: 0.3124\n",
      "Epoch 13/180\n",
      " - 6s - loss: 1.8213 - acc: 0.3211\n",
      "Epoch 14/180\n",
      " - 6s - loss: 1.7917 - acc: 0.3770\n",
      "Epoch 15/180\n",
      " - 6s - loss: 1.7507 - acc: 0.3822\n",
      "Epoch 16/180\n",
      " - 7s - loss: 1.7044 - acc: 0.4119\n",
      "Epoch 17/180\n",
      " - 6s - loss: 1.6524 - acc: 0.3735\n",
      "Epoch 18/180\n",
      " - 7s - loss: 1.5965 - acc: 0.4014\n",
      "Epoch 19/180\n",
      " - 6s - loss: 1.5424 - acc: 0.4520\n",
      "Epoch 20/180\n",
      " - 6s - loss: 1.4884 - acc: 0.4450\n",
      "Epoch 21/180\n",
      " - 7s - loss: 1.4293 - acc: 0.4852\n",
      "Epoch 22/180\n",
      " - 7s - loss: 1.4040 - acc: 0.4782\n",
      "Epoch 23/180\n",
      " - 6s - loss: 1.3787 - acc: 0.4799\n",
      "Epoch 24/180\n",
      " - 7s - loss: 1.3267 - acc: 0.5044\n",
      "Epoch 25/180\n",
      " - 6s - loss: 1.3022 - acc: 0.5340\n",
      "Epoch 26/180\n",
      " - 7s - loss: 1.2644 - acc: 0.5183\n",
      "Epoch 27/180\n",
      " - 6s - loss: 1.2204 - acc: 0.5323\n",
      "Epoch 28/180\n",
      " - 6s - loss: 1.2037 - acc: 0.5410\n",
      "Epoch 29/180\n",
      " - 6s - loss: 1.1614 - acc: 0.5620\n",
      "Epoch 30/180\n",
      " - 6s - loss: 1.1627 - acc: 0.5654\n",
      "Epoch 31/180\n",
      " - 7s - loss: 1.1330 - acc: 0.5777\n",
      "Epoch 32/180\n",
      " - 7s - loss: 1.0991 - acc: 0.5899\n",
      "Epoch 33/180\n",
      " - 7s - loss: 1.0736 - acc: 0.5916\n",
      "Epoch 34/180\n",
      " - 6s - loss: 1.0290 - acc: 0.6056\n",
      "Epoch 35/180\n",
      " - 6s - loss: 1.0174 - acc: 0.6143\n",
      "Epoch 36/180\n",
      " - 7s - loss: 0.9826 - acc: 0.6143\n",
      "Epoch 37/180\n",
      " - 6s - loss: 0.9947 - acc: 0.6370\n",
      "Epoch 38/180\n",
      " - 6s - loss: 0.9313 - acc: 0.6719\n",
      "Epoch 39/180\n",
      " - 6s - loss: 0.9154 - acc: 0.6475\n",
      "Epoch 40/180\n",
      " - 6s - loss: 0.9087 - acc: 0.6684\n",
      "Epoch 41/180\n",
      " - 6s - loss: 0.8937 - acc: 0.6492\n",
      "Epoch 42/180\n",
      " - 6s - loss: 0.8598 - acc: 0.6719\n",
      "Epoch 43/180\n",
      " - 6s - loss: 0.8709 - acc: 0.6876\n",
      "Epoch 44/180\n",
      " - 6s - loss: 0.8132 - acc: 0.6998\n",
      "Epoch 45/180\n",
      " - 7s - loss: 0.8134 - acc: 0.6946\n",
      "Epoch 46/180\n",
      " - 6s - loss: 0.7998 - acc: 0.6824\n",
      "Epoch 47/180\n",
      " - 7s - loss: 0.7852 - acc: 0.6911\n",
      "Epoch 48/180\n",
      " - 6s - loss: 0.7594 - acc: 0.7382\n",
      "Epoch 49/180\n",
      " - 7s - loss: 0.7473 - acc: 0.7208\n",
      "Epoch 50/180\n",
      " - 6s - loss: 0.7173 - acc: 0.7277\n",
      "Epoch 51/180\n",
      " - 6s - loss: 0.6961 - acc: 0.7400\n",
      "Epoch 52/180\n",
      " - 7s - loss: 0.7023 - acc: 0.7365\n",
      "Epoch 53/180\n",
      " - 7s - loss: 0.6854 - acc: 0.7365\n",
      "Epoch 54/180\n",
      " - 7s - loss: 0.6907 - acc: 0.7592\n",
      "Epoch 55/180\n",
      " - 7s - loss: 0.6546 - acc: 0.7627\n",
      "Epoch 56/180\n",
      " - 7s - loss: 0.6419 - acc: 0.7557\n",
      "Epoch 57/180\n",
      " - 7s - loss: 0.6277 - acc: 0.7609\n",
      "Epoch 58/180\n",
      " - 7s - loss: 0.6260 - acc: 0.7435\n",
      "Epoch 59/180\n",
      " - 7s - loss: 0.6236 - acc: 0.7557\n",
      "Epoch 60/180\n",
      " - 7s - loss: 0.5994 - acc: 0.7853\n",
      "Epoch 61/180\n",
      " - 7s - loss: 0.5813 - acc: 0.8045\n",
      "Epoch 62/180\n",
      " - 7s - loss: 0.5537 - acc: 0.7976\n",
      "Epoch 63/180\n",
      " - 7s - loss: 0.5659 - acc: 0.7906\n",
      "Epoch 64/180\n",
      " - 7s - loss: 0.5557 - acc: 0.7941\n",
      "Epoch 65/180\n",
      " - 7s - loss: 0.5312 - acc: 0.8063\n",
      "Epoch 66/180\n",
      " - 7s - loss: 0.5227 - acc: 0.8220\n",
      "Epoch 67/180\n",
      " - 7s - loss: 0.5332 - acc: 0.8080\n",
      "Epoch 68/180\n",
      " - 7s - loss: 0.5059 - acc: 0.8220\n",
      "Epoch 69/180\n",
      " - 7s - loss: 0.4829 - acc: 0.8272\n",
      "Epoch 70/180\n",
      " - 7s - loss: 0.4880 - acc: 0.8429\n",
      "Epoch 71/180\n",
      " - 7s - loss: 0.4476 - acc: 0.8360\n",
      "Epoch 72/180\n",
      " - 7s - loss: 0.4606 - acc: 0.8377\n",
      "Epoch 73/180\n",
      " - 7s - loss: 0.4565 - acc: 0.8447\n",
      "Epoch 74/180\n",
      " - 7s - loss: 0.4373 - acc: 0.8377\n",
      "Epoch 75/180\n",
      " - 7s - loss: 0.4436 - acc: 0.8447\n",
      "Epoch 76/180\n",
      " - 7s - loss: 0.3963 - acc: 0.8709\n",
      "Epoch 77/180\n",
      " - 7s - loss: 0.4262 - acc: 0.8447\n",
      "Epoch 78/180\n",
      " - 6s - loss: 0.4093 - acc: 0.8639\n",
      "Epoch 79/180\n",
      " - 7s - loss: 0.3746 - acc: 0.8761\n",
      "Epoch 80/180\n",
      " - 7s - loss: 0.3801 - acc: 0.8709\n",
      "Epoch 81/180\n",
      " - 7s - loss: 0.4169 - acc: 0.8621\n",
      "Epoch 82/180\n",
      " - 7s - loss: 0.3680 - acc: 0.8586\n",
      "Epoch 83/180\n",
      " - 7s - loss: 0.3487 - acc: 0.8656\n",
      "Epoch 84/180\n",
      " - 7s - loss: 0.3349 - acc: 0.8848\n",
      "Epoch 85/180\n",
      " - 7s - loss: 0.3268 - acc: 0.8953\n",
      "Epoch 86/180\n",
      " - 7s - loss: 0.3040 - acc: 0.8866\n",
      "Epoch 87/180\n",
      " - 7s - loss: 0.2914 - acc: 0.9005\n",
      "Epoch 88/180\n",
      " - 7s - loss: 0.3358 - acc: 0.8709\n",
      "Epoch 89/180\n",
      " - 7s - loss: 0.3136 - acc: 0.8935\n",
      "Epoch 90/180\n",
      " - 7s - loss: 0.2740 - acc: 0.9092\n",
      "Epoch 91/180\n",
      " - 7s - loss: 0.2998 - acc: 0.9092\n",
      "Epoch 92/180\n",
      " - 6s - loss: 0.2758 - acc: 0.9005\n",
      "Epoch 93/180\n",
      " - 7s - loss: 0.2416 - acc: 0.9075\n",
      "Epoch 94/180\n",
      " - 7s - loss: 0.2630 - acc: 0.9267\n",
      "Epoch 95/180\n",
      " - 7s - loss: 0.2591 - acc: 0.9127\n",
      "Epoch 96/180\n",
      " - 7s - loss: 0.2334 - acc: 0.9250\n",
      "Epoch 97/180\n",
      " - 7s - loss: 0.2221 - acc: 0.9337\n",
      "Epoch 98/180\n",
      " - 7s - loss: 0.2292 - acc: 0.9302\n",
      "Epoch 99/180\n",
      " - 7s - loss: 0.2617 - acc: 0.9092\n",
      "Epoch 100/180\n",
      " - 7s - loss: 0.2937 - acc: 0.9058\n",
      "Epoch 101/180\n",
      " - 7s - loss: 0.2001 - acc: 0.9354\n",
      "Epoch 102/180\n",
      " - 7s - loss: 0.2150 - acc: 0.9389\n",
      "Epoch 103/180\n",
      " - 7s - loss: 0.1798 - acc: 0.9442\n",
      "Epoch 104/180\n",
      " - 7s - loss: 0.1965 - acc: 0.9476\n",
      "Epoch 105/180\n",
      " - 7s - loss: 0.1918 - acc: 0.9424\n",
      "Epoch 106/180\n",
      " - 7s - loss: 0.1618 - acc: 0.9476\n",
      "Epoch 107/180\n",
      " - 7s - loss: 0.1861 - acc: 0.9354\n",
      "Epoch 108/180\n",
      " - 7s - loss: 0.1806 - acc: 0.9354\n",
      "Epoch 109/180\n",
      " - 7s - loss: 0.1492 - acc: 0.9599\n",
      "Epoch 110/180\n",
      " - 7s - loss: 0.1460 - acc: 0.9546\n",
      "Epoch 111/180\n",
      " - 7s - loss: 0.1412 - acc: 0.9651\n",
      "Epoch 112/180\n",
      " - 7s - loss: 0.1389 - acc: 0.9529\n",
      "Epoch 113/180\n",
      " - 7s - loss: 0.1274 - acc: 0.9634\n",
      "Epoch 114/180\n",
      " - 7s - loss: 0.1345 - acc: 0.9634\n",
      "Epoch 115/180\n",
      " - 7s - loss: 0.1329 - acc: 0.9703\n",
      "Epoch 116/180\n",
      " - 7s - loss: 0.1146 - acc: 0.9686\n",
      "Epoch 117/180\n",
      " - 7s - loss: 0.1210 - acc: 0.9616\n",
      "Epoch 118/180\n",
      " - 7s - loss: 0.1256 - acc: 0.9546\n",
      "Epoch 119/180\n",
      " - 7s - loss: 0.1164 - acc: 0.9721\n",
      "Epoch 120/180\n",
      " - 7s - loss: 0.1055 - acc: 0.9738\n",
      "Epoch 121/180\n",
      " - 7s - loss: 0.1038 - acc: 0.9721\n",
      "Epoch 122/180\n",
      " - 7s - loss: 0.1511 - acc: 0.9442\n",
      "Epoch 123/180\n",
      " - 7s - loss: 0.0975 - acc: 0.9808\n",
      "Epoch 124/180\n",
      " - 7s - loss: 0.0961 - acc: 0.9756\n",
      "Epoch 125/180\n",
      " - 7s - loss: 0.0969 - acc: 0.9843\n",
      "Epoch 126/180\n",
      " - 7s - loss: 0.0673 - acc: 0.9948\n",
      "Epoch 127/180\n",
      " - 7s - loss: 0.0691 - acc: 0.9895\n",
      "Epoch 128/180\n",
      " - 7s - loss: 0.0768 - acc: 0.9860\n",
      "Epoch 129/180\n",
      " - 7s - loss: 0.0711 - acc: 0.9791\n",
      "Epoch 130/180\n",
      " - 7s - loss: 0.0882 - acc: 0.9703\n",
      "Epoch 131/180\n",
      " - 7s - loss: 0.0589 - acc: 0.9895\n",
      "Epoch 132/180\n",
      " - 7s - loss: 0.0613 - acc: 0.9895\n",
      "Epoch 133/180\n",
      " - 7s - loss: 0.0526 - acc: 0.9948\n",
      "Epoch 134/180\n",
      " - 7s - loss: 0.0638 - acc: 0.9860\n",
      "Epoch 135/180\n",
      " - 7s - loss: 0.0533 - acc: 0.9878\n",
      "Epoch 136/180\n",
      " - 7s - loss: 0.0536 - acc: 0.9913\n",
      "Epoch 137/180\n",
      " - 7s - loss: 0.0605 - acc: 0.9930\n",
      "Epoch 138/180\n",
      " - 7s - loss: 0.0629 - acc: 0.9843\n",
      "Epoch 139/180\n",
      " - 7s - loss: 0.0577 - acc: 0.9808\n",
      "Epoch 140/180\n",
      " - 7s - loss: 0.0483 - acc: 0.9930\n",
      "Epoch 141/180\n",
      " - 7s - loss: 0.0529 - acc: 0.9895\n",
      "Epoch 142/180\n",
      " - 7s - loss: 0.0385 - acc: 0.9983\n",
      "Epoch 143/180\n",
      " - 7s - loss: 0.0338 - acc: 0.9965\n",
      "Epoch 144/180\n",
      " - 7s - loss: 0.0665 - acc: 0.9843\n",
      "Epoch 145/180\n",
      " - 7s - loss: 0.0387 - acc: 0.9965\n",
      "Epoch 146/180\n",
      " - 7s - loss: 0.0778 - acc: 0.9791\n",
      "Epoch 147/180\n",
      " - 7s - loss: 0.0457 - acc: 0.9895\n",
      "Epoch 148/180\n",
      " - 7s - loss: 0.0382 - acc: 0.9930\n",
      "Epoch 149/180\n",
      " - 7s - loss: 0.0337 - acc: 1.0000\n",
      "Epoch 150/180\n",
      " - 7s - loss: 0.0587 - acc: 0.9878\n",
      "Epoch 151/180\n",
      " - 7s - loss: 0.0325 - acc: 0.9983\n",
      "Epoch 152/180\n",
      " - 7s - loss: 0.0278 - acc: 1.0000\n",
      "Epoch 153/180\n",
      " - 7s - loss: 0.0247 - acc: 0.9983\n",
      "Epoch 154/180\n",
      " - 7s - loss: 0.0227 - acc: 0.9983\n",
      "Epoch 155/180\n",
      " - 7s - loss: 0.0217 - acc: 1.0000\n",
      "Epoch 156/180\n",
      " - 7s - loss: 0.0239 - acc: 0.9983\n",
      "Epoch 157/180\n",
      " - 7s - loss: 0.0213 - acc: 1.0000\n",
      "Epoch 158/180\n",
      " - 7s - loss: 0.0193 - acc: 1.0000\n",
      "Epoch 159/180\n",
      " - 7s - loss: 0.0203 - acc: 1.0000\n",
      "Epoch 160/180\n",
      " - 7s - loss: 0.0188 - acc: 1.0000\n",
      "Epoch 161/180\n",
      " - 7s - loss: 0.0188 - acc: 1.0000\n",
      "Epoch 162/180\n",
      " - 7s - loss: 0.0208 - acc: 0.9965\n",
      "Epoch 163/180\n",
      " - 7s - loss: 0.0883 - acc: 0.9878\n",
      "Epoch 164/180\n",
      " - 7s - loss: 0.0341 - acc: 0.9948\n",
      "Epoch 165/180\n"
     ]
    },
    {
     "name": "stdout",
     "output_type": "stream",
     "text": [
      " - 7s - loss: 0.0179 - acc: 1.0000\n",
      "Epoch 166/180\n",
      " - 7s - loss: 0.0157 - acc: 1.0000\n",
      "Epoch 167/180\n",
      " - 7s - loss: 0.0161 - acc: 1.0000\n",
      "Epoch 168/180\n",
      " - 7s - loss: 0.0162 - acc: 1.0000\n",
      "Epoch 169/180\n",
      " - 7s - loss: 0.0155 - acc: 1.0000\n",
      "Epoch 170/180\n",
      " - 7s - loss: 0.0146 - acc: 1.0000\n",
      "Epoch 171/180\n",
      " - 7s - loss: 0.0157 - acc: 1.0000\n",
      "Epoch 172/180\n",
      " - 7s - loss: 0.0148 - acc: 1.0000\n",
      "Epoch 173/180\n",
      " - 7s - loss: 0.0117 - acc: 1.0000\n",
      "Epoch 174/180\n",
      " - 7s - loss: 0.0111 - acc: 1.0000\n",
      "Epoch 175/180\n",
      " - 7s - loss: 0.0126 - acc: 1.0000\n",
      "Epoch 176/180\n",
      " - 7s - loss: 0.0106 - acc: 1.0000\n",
      "Epoch 177/180\n",
      " - 7s - loss: 0.0113 - acc: 1.0000\n",
      "Epoch 178/180\n",
      " - 7s - loss: 0.0108 - acc: 1.0000\n",
      "Epoch 179/180\n",
      " - 7s - loss: 0.0113 - acc: 1.0000\n",
      "Epoch 180/180\n",
      " - 7s - loss: 0.0105 - acc: 1.0000\n"
     ]
    },
    {
     "data": {
      "text/plain": [
       "<keras.callbacks.History at 0x2141e442550>"
      ]
     },
     "execution_count": 15,
     "metadata": {},
     "output_type": "execute_result"
    }
   ],
   "source": [
    "# Entrenamiento \n",
    "modelo.fit(images_entrenamiento, etiquetas, epochs=180, batch_size=5,verbose=2)"
   ]
  },
  {
   "cell_type": "code",
   "execution_count": 16,
   "metadata": {},
   "outputs": [],
   "source": [
    "target_dir = \"./model/\"\n",
    "if not os.path.exists(target_dir):\n",
    "    os.mkdir(target_dir)\n",
    "\n",
    "modelo.save('./model/model.h5')\n",
    "modelo.save_weights('./model/pesos.h5')"
   ]
  },
  {
   "cell_type": "code",
   "execution_count": null,
   "metadata": {},
   "outputs": [],
   "source": []
  }
 ],
 "metadata": {
  "kernelspec": {
   "display_name": "Python 3",
   "language": "python",
   "name": "python3"
  },
  "language_info": {
   "codemirror_mode": {
    "name": "ipython",
    "version": 3
   },
   "file_extension": ".py",
   "mimetype": "text/x-python",
   "name": "python",
   "nbconvert_exporter": "python",
   "pygments_lexer": "ipython3",
   "version": "3.7.1"
  }
 },
 "nbformat": 4,
 "nbformat_minor": 2
}
