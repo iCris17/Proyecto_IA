{
 "cells": [
  {
   "cell_type": "code",
   "execution_count": 1,
   "metadata": {},
   "outputs": [
    {
     "name": "stderr",
     "output_type": "stream",
     "text": [
      "C:\\Users\\Felipe\\Anaconda3\\lib\\site-packages\\h5py\\__init__.py:72: UserWarning: h5py is running against HDF5 1.10.2 when it was built against 1.10.3, this may cause problems\n",
      "  '{0}.{1}.{2}'.format(*version.hdf5_built_version_tuple)\n",
      "Using TensorFlow backend.\n"
     ]
    }
   ],
   "source": [
    "import numpy as np\n",
    "from keras.preprocessing.image import load_img, img_to_array\n",
    "from tensorflow.keras.models import load_model\n",
    "import matplotlib.pyplot as plt "
   ]
  },
  {
   "cell_type": "code",
   "execution_count": 2,
   "metadata": {},
   "outputs": [
    {
     "name": "stdout",
     "output_type": "stream",
     "text": [
      "WARNING:tensorflow:From C:\\Users\\Felipe\\Anaconda3\\lib\\site-packages\\tensorflow\\python\\ops\\resource_variable_ops.py:435: colocate_with (from tensorflow.python.framework.ops) is deprecated and will be removed in a future version.\n",
      "Instructions for updating:\n",
      "Colocations handled automatically by placer.\n",
      "WARNING:tensorflow:From C:\\Users\\Felipe\\Anaconda3\\lib\\site-packages\\tensorflow\\python\\ops\\math_ops.py:3066: to_int32 (from tensorflow.python.ops.math_ops) is deprecated and will be removed in a future version.\n",
      "Instructions for updating:\n",
      "Use tf.cast instead.\n"
     ]
    }
   ],
   "source": [
    "longitud, altura = 50, 50\n",
    "modelo = './v1.0/model/model.h5'\n",
    "pesos_modelo = './v1.0/model/pesos.h5'\n",
    "cnn = load_model(modelo)\n",
    "cnn.load_weights(pesos_modelo)"
   ]
  },
  {
   "cell_type": "code",
   "execution_count": 3,
   "metadata": {},
   "outputs": [],
   "source": [
    "def predict(file):\n",
    "    x = load_img(file, target_size=(longitud, altura))\n",
    "    plt.imshow(x)\n",
    "    plt.show()\n",
    "    x = img_to_array(x)\n",
    " \n",
    "    x = np.expand_dims(x, axis = 0)\n",
    "   \n",
    "    array = cnn.predict(x)\n",
    "    result = array[0]\n",
    "    answer = np.argmax(result)\n",
    "    print(\"Answer: \"+str(answer))\n",
    "    if (answer == 0):\n",
    "        print(\"pred: Etapa 1 \\n Calidad: Muy alta (100%)\")\n",
    "    elif answer == 1:\n",
    "        print(\"pred: Etapa 2 \\n Calidad. Alta (85%)\")\n",
    "    elif answer == 2:\n",
    "        print(\"pred: Etapa 3 \\n Calidad: Media Alta (65%)\")\n",
    "    elif answer == 3:\n",
    "        print(\"pred: Etapa 4 \\n Calidad: Media (50%)\")\n",
    "    elif answer == 4:\n",
    "        print(\"pred: Etapa 5 \\n Calidad: Baja (30%)\")\n",
    "    elif answer == 5:\n",
    "        print(\"pred: Etapa 6 \\n Calidad: Muy baja (10%)\")\n",
    "    elif answer == 6:\n",
    "        print(\"Precaución: El objeto que analizó la red neuronal detectó un objeto que no es un chile jalapeño\")\n",
    "        \n",
    "    return answer"
   ]
  },
  {
   "cell_type": "code",
   "execution_count": 77,
   "metadata": {},
   "outputs": [
    {
     "data": {
      "image/png": "[encoded data removed]",
      "text/plain": [
       "<Figure size 432x288 with 1 Axes>"
      ]
     },
     "metadata": {
      "needs_background": "light"
     },
     "output_type": "display_data"
    },
    {
     "name": "stdout",
     "output_type": "stream",
     "text": [
      "Answer: 3\n",
      "pred: Etapa 4 \n",
      " Calidad: Media (50%)\n"
     ]
    },
    {
     "data": {
      "text/plain": [
       "3"
      ]
     },
     "execution_count": 77,
     "metadata": {},
     "output_type": "execute_result"
    }
   ],
   "source": [
    "#predict('./images/Validacion/Etapa5/IMG_20190420_133245.jpg')\n",
    "predict('IMG_20190426_130217.jpg')"
   ]
  },
  {
   "cell_type": "code",
   "execution_count": null,
   "metadata": {},
   "outputs": [],
   "source": []
  }
 ],
 "metadata": {
  "kernelspec": {
   "display_name": "Python 3",
   "language": "python",
   "name": "python3"
  },
  "language_info": {
   "codemirror_mode": {
    "name": "ipython",
    "version": 3
   },
   "file_extension": ".py",
   "mimetype": "text/x-python",
   "name": "python",
   "nbconvert_exporter": "python",
   "pygments_lexer": "ipython3",
   "version": "3.7.1"
  }
 },
 "nbformat": 4,
 "nbformat_minor": 2
}
